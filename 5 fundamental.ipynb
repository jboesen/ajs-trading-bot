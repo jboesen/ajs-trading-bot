{
 "cells": [
  {
   "attachments": {},
   "cell_type": "markdown",
   "metadata": {},
   "source": [
    "# Fundamental Strat"
   ]
  },
  {
   "cell_type": "code",
   "execution_count": 40,
   "metadata": {},
   "outputs": [],
   "source": [
    "import vectorbt as vbt\n",
    "import numpy as np\n",
    "import pandas as pd\n",
    "import nbformat\n",
    "import datetime as dt\n",
    "import scipy.stats as stats\n",
    "import plotly.graph_objects as go\n",
    "from sklearn.linear_model import LinearRegression"
   ]
  },
  {
   "cell_type": "code",
   "execution_count": 65,
   "metadata": {},
   "outputs": [
    {
     "name": "stderr",
     "output_type": "stream",
     "text": [
      "/Users/johnboesen/Documents/Code/#Algotraders/yja/yja-env/lib/python3.9/site-packages/vectorbt/data/base.py:527: UserWarning: Symbols have mismatching index. Setting missing data points to NaN.\n",
      "  data = cls.align_index(data, missing=missing_index)\n"
     ]
    }
   ],
   "source": [
    "# list low volume stocks\n",
    "# https://finviz.com/screener.ashx?v=111&f=exch_nasd,geo_usa,ipodate_more15&o=volume\n",
    "# if we were doing more, I would set up API, but this is only 10 stocks\n",
    "stocks_list = ['SPY', 'INTG', 'HFBL', 'SFBC', 'AIRT', 'EEA', 'CSD', 'GBLI', 'NXN', 'PFIN', 'LINK']\n",
    "securities = vbt.YFData.download(symbols=stocks_list)\n",
    "sectors = securities.data.keys()\n",
    "# create a new column for each sector\n",
    "df = pd.DataFrame()\n",
    "for sector in sectors:\n",
    "    df[sector] = securities.data[sector]['Close']"
   ]
  },
  {
   "cell_type": "code",
   "execution_count": 67,
   "metadata": {},
   "outputs": [],
   "source": [
    "df = df.dropna()"
   ]
  },
  {
   "cell_type": "code",
   "execution_count": 68,
   "metadata": {},
   "outputs": [],
   "source": [
    "er = {}"
   ]
  },
  {
   "cell_type": "code",
   "execution_count": 75,
   "metadata": {},
   "outputs": [
    {
     "name": "stdout",
     "output_type": "stream",
     "text": [
      "1.0000000000000002\n",
      "0.12280082479215569\n",
      "0.07213266471027024\n",
      "0.18355824062492382\n",
      "0.4575010607580729\n",
      "0.9419471810126541\n",
      "0.9387275207733569\n",
      "1.0095691878322044\n",
      "0.07418349510032611\n",
      "0.20074446492448292\n",
      "0.19339470160668287\n"
     ]
    }
   ],
   "source": [
    "# https://www.mlq.ai/capital-asset-pricing-model-python/\n",
    "# interesting... https://github.com/omartinsky/FamaFrench/blob/master/famafrench.ipynb\n",
    "def capm(stock):\n",
    "    # create normalized prices for each stock\n",
    "    df[f'{stock}_norm'] = df[stock] / df[stock].iloc[0]\n",
    "    # create returns for each stock\n",
    "    df[f'{stock}_ret'] = df[stock].pct_change()\n",
    "    # set first row as 0\n",
    "    df[f'{stock}_ret'].iloc[0] = 0\n",
    "    # calculate beta of each stock\n",
    "    X = np.array(df[f'{stock}_ret']).reshape(-1, 1)\n",
    "    model = LinearRegression().fit(X, df['SPY_ret'])\n",
    "    beta = model.coef_[0]\n",
    "    beta, alpha = np.polyfit(df['SPY_ret'], df[f'{stock}_ret'], 1)\n",
    "    print(beta)\n",
    "    rm = df[f'{stock}_ret'].mean() * 252\n",
    "    rf = 0.037\n",
    "    er[stock] = rf + (beta * (rm-rf)) \n",
    "\n",
    "for stock in stocks_list:\n",
    "    capm(stock)"
   ]
  },
  {
   "cell_type": "code",
   "execution_count": null,
   "metadata": {},
   "outputs": [],
   "source": []
  },
  {
   "cell_type": "code",
   "execution_count": 109,
   "metadata": {},
   "outputs": [],
   "source": [
    "for column in df.columns:\n",
    "    if column in er:\n",
    "        df[f'{column}_rolling'] = df[column].rolling(10).mean() * 25.2\n",
    "df=df.dropna()"
   ]
  },
  {
   "cell_type": "code",
   "execution_count": 115,
   "metadata": {},
   "outputs": [],
   "source": [
    "for column in stocks_list:\n",
    "    df.loc[df[f'{column}_rolling'] <= er[column], f'{column}_orders'] = 1\n",
    "    df.loc[df[f'{column}_rolling'] > er[column], f'{column}_orders'] = -1"
   ]
  },
  {
   "cell_type": "code",
   "execution_count": 116,
   "metadata": {},
   "outputs": [
    {
     "data": {
      "text/html": [
       "<div>\n",
       "<style scoped>\n",
       "    .dataframe tbody tr th:only-of-type {\n",
       "        vertical-align: middle;\n",
       "    }\n",
       "\n",
       "    .dataframe tbody tr th {\n",
       "        vertical-align: top;\n",
       "    }\n",
       "\n",
       "    .dataframe thead th {\n",
       "        text-align: right;\n",
       "    }\n",
       "</style>\n",
       "<table border=\"1\" class=\"dataframe\">\n",
       "  <thead>\n",
       "    <tr style=\"text-align: right;\">\n",
       "      <th></th>\n",
       "      <th>SPY</th>\n",
       "      <th>INTG</th>\n",
       "      <th>HFBL</th>\n",
       "      <th>SFBC</th>\n",
       "      <th>AIRT</th>\n",
       "      <th>EEA</th>\n",
       "      <th>CSD</th>\n",
       "      <th>GBLI</th>\n",
       "      <th>NXN</th>\n",
       "      <th>PFIN</th>\n",
       "      <th>...</th>\n",
       "      <th>CSD_rolling</th>\n",
       "      <th>CSD_orders</th>\n",
       "      <th>GBLI_rolling</th>\n",
       "      <th>GBLI_orders</th>\n",
       "      <th>NXN_rolling</th>\n",
       "      <th>NXN_orders</th>\n",
       "      <th>PFIN_rolling</th>\n",
       "      <th>PFIN_orders</th>\n",
       "      <th>LINK_rolling</th>\n",
       "      <th>LINK_orders</th>\n",
       "    </tr>\n",
       "    <tr>\n",
       "      <th>Date</th>\n",
       "      <th></th>\n",
       "      <th></th>\n",
       "      <th></th>\n",
       "      <th></th>\n",
       "      <th></th>\n",
       "      <th></th>\n",
       "      <th></th>\n",
       "      <th></th>\n",
       "      <th></th>\n",
       "      <th></th>\n",
       "      <th></th>\n",
       "      <th></th>\n",
       "      <th></th>\n",
       "      <th></th>\n",
       "      <th></th>\n",
       "      <th></th>\n",
       "      <th></th>\n",
       "      <th></th>\n",
       "      <th></th>\n",
       "      <th></th>\n",
       "      <th></th>\n",
       "    </tr>\n",
       "  </thead>\n",
       "  <tbody>\n",
       "    <tr>\n",
       "      <th>2008-02-05 05:00:00+00:00</th>\n",
       "      <td>99.915039</td>\n",
       "      <td>18.049999</td>\n",
       "      <td>3.416524</td>\n",
       "      <td>7.448931</td>\n",
       "      <td>6.026968</td>\n",
       "      <td>6.033107</td>\n",
       "      <td>20.534878</td>\n",
       "      <td>33.356571</td>\n",
       "      <td>7.417066</td>\n",
       "      <td>5.842738</td>\n",
       "      <td>...</td>\n",
       "      <td>517.499929</td>\n",
       "      <td>-1</td>\n",
       "      <td>835.161154</td>\n",
       "      <td>-1</td>\n",
       "      <td>187.249394</td>\n",
       "      <td>-1</td>\n",
       "      <td>147.749132</td>\n",
       "      <td>-1</td>\n",
       "      <td>164.102400</td>\n",
       "      <td>-1</td>\n",
       "    </tr>\n",
       "    <tr>\n",
       "      <th>2008-02-06 05:00:00+00:00</th>\n",
       "      <td>99.110519</td>\n",
       "      <td>18.010000</td>\n",
       "      <td>3.416524</td>\n",
       "      <td>7.448931</td>\n",
       "      <td>6.199486</td>\n",
       "      <td>6.027333</td>\n",
       "      <td>20.334618</td>\n",
       "      <td>34.090782</td>\n",
       "      <td>7.438609</td>\n",
       "      <td>5.436286</td>\n",
       "      <td>...</td>\n",
       "      <td>518.845673</td>\n",
       "      <td>-1</td>\n",
       "      <td>838.230799</td>\n",
       "      <td>-1</td>\n",
       "      <td>187.303681</td>\n",
       "      <td>-1</td>\n",
       "      <td>146.511487</td>\n",
       "      <td>-1</td>\n",
       "      <td>160.876799</td>\n",
       "      <td>-1</td>\n",
       "    </tr>\n",
       "    <tr>\n",
       "      <th>2008-02-07 05:00:00+00:00</th>\n",
       "      <td>99.766006</td>\n",
       "      <td>18.010000</td>\n",
       "      <td>3.416524</td>\n",
       "      <td>7.448931</td>\n",
       "      <td>6.232876</td>\n",
       "      <td>6.004241</td>\n",
       "      <td>20.142702</td>\n",
       "      <td>34.674816</td>\n",
       "      <td>7.384749</td>\n",
       "      <td>5.893545</td>\n",
       "      <td>...</td>\n",
       "      <td>518.677449</td>\n",
       "      <td>-1</td>\n",
       "      <td>845.253195</td>\n",
       "      <td>-1</td>\n",
       "      <td>187.290115</td>\n",
       "      <td>-1</td>\n",
       "      <td>146.426135</td>\n",
       "      <td>-1</td>\n",
       "      <td>157.348799</td>\n",
       "      <td>-1</td>\n",
       "    </tr>\n",
       "    <tr>\n",
       "      <th>2008-02-08 05:00:00+00:00</th>\n",
       "      <td>99.125420</td>\n",
       "      <td>18.010000</td>\n",
       "      <td>3.416524</td>\n",
       "      <td>7.448931</td>\n",
       "      <td>6.288526</td>\n",
       "      <td>5.923413</td>\n",
       "      <td>20.217802</td>\n",
       "      <td>33.890545</td>\n",
       "      <td>7.357819</td>\n",
       "      <td>5.715722</td>\n",
       "      <td>...</td>\n",
       "      <td>519.665737</td>\n",
       "      <td>-1</td>\n",
       "      <td>851.350494</td>\n",
       "      <td>-1</td>\n",
       "      <td>187.276559</td>\n",
       "      <td>-1</td>\n",
       "      <td>145.999361</td>\n",
       "      <td>-1</td>\n",
       "      <td>153.417598</td>\n",
       "      <td>-1</td>\n",
       "    </tr>\n",
       "    <tr>\n",
       "      <th>2008-02-11 05:00:00+00:00</th>\n",
       "      <td>99.631958</td>\n",
       "      <td>18.010000</td>\n",
       "      <td>3.416524</td>\n",
       "      <td>7.489634</td>\n",
       "      <td>6.422089</td>\n",
       "      <td>5.963826</td>\n",
       "      <td>20.226143</td>\n",
       "      <td>32.972771</td>\n",
       "      <td>7.347041</td>\n",
       "      <td>6.071367</td>\n",
       "      <td>...</td>\n",
       "      <td>519.476485</td>\n",
       "      <td>-1</td>\n",
       "      <td>852.906345</td>\n",
       "      <td>-1</td>\n",
       "      <td>187.222269</td>\n",
       "      <td>-1</td>\n",
       "      <td>145.807312</td>\n",
       "      <td>-1</td>\n",
       "      <td>150.191997</td>\n",
       "      <td>-1</td>\n",
       "    </tr>\n",
       "  </tbody>\n",
       "</table>\n",
       "<p>5 rows × 55 columns</p>\n",
       "</div>"
      ],
      "text/plain": [
       "                                 SPY       INTG      HFBL      SFBC      AIRT  \\\n",
       "Date                                                                            \n",
       "2008-02-05 05:00:00+00:00  99.915039  18.049999  3.416524  7.448931  6.026968   \n",
       "2008-02-06 05:00:00+00:00  99.110519  18.010000  3.416524  7.448931  6.199486   \n",
       "2008-02-07 05:00:00+00:00  99.766006  18.010000  3.416524  7.448931  6.232876   \n",
       "2008-02-08 05:00:00+00:00  99.125420  18.010000  3.416524  7.448931  6.288526   \n",
       "2008-02-11 05:00:00+00:00  99.631958  18.010000  3.416524  7.489634  6.422089   \n",
       "\n",
       "                                EEA        CSD       GBLI       NXN      PFIN  \\\n",
       "Date                                                                            \n",
       "2008-02-05 05:00:00+00:00  6.033107  20.534878  33.356571  7.417066  5.842738   \n",
       "2008-02-06 05:00:00+00:00  6.027333  20.334618  34.090782  7.438609  5.436286   \n",
       "2008-02-07 05:00:00+00:00  6.004241  20.142702  34.674816  7.384749  5.893545   \n",
       "2008-02-08 05:00:00+00:00  5.923413  20.217802  33.890545  7.357819  5.715722   \n",
       "2008-02-11 05:00:00+00:00  5.963826  20.226143  32.972771  7.347041  6.071367   \n",
       "\n",
       "                           ...  CSD_rolling  CSD_orders  GBLI_rolling  \\\n",
       "Date                       ...                                          \n",
       "2008-02-05 05:00:00+00:00  ...   517.499929          -1    835.161154   \n",
       "2008-02-06 05:00:00+00:00  ...   518.845673          -1    838.230799   \n",
       "2008-02-07 05:00:00+00:00  ...   518.677449          -1    845.253195   \n",
       "2008-02-08 05:00:00+00:00  ...   519.665737          -1    851.350494   \n",
       "2008-02-11 05:00:00+00:00  ...   519.476485          -1    852.906345   \n",
       "\n",
       "                           GBLI_orders  NXN_rolling  NXN_orders  PFIN_rolling  \\\n",
       "Date                                                                            \n",
       "2008-02-05 05:00:00+00:00           -1   187.249394          -1    147.749132   \n",
       "2008-02-06 05:00:00+00:00           -1   187.303681          -1    146.511487   \n",
       "2008-02-07 05:00:00+00:00           -1   187.290115          -1    146.426135   \n",
       "2008-02-08 05:00:00+00:00           -1   187.276559          -1    145.999361   \n",
       "2008-02-11 05:00:00+00:00           -1   187.222269          -1    145.807312   \n",
       "\n",
       "                           PFIN_orders  LINK_rolling  LINK_orders  \n",
       "Date                                                               \n",
       "2008-02-05 05:00:00+00:00           -1    164.102400           -1  \n",
       "2008-02-06 05:00:00+00:00           -1    160.876799           -1  \n",
       "2008-02-07 05:00:00+00:00           -1    157.348799           -1  \n",
       "2008-02-08 05:00:00+00:00           -1    153.417598           -1  \n",
       "2008-02-11 05:00:00+00:00           -1    150.191997           -1  \n",
       "\n",
       "[5 rows x 55 columns]"
      ]
     },
     "execution_count": 116,
     "metadata": {},
     "output_type": "execute_result"
    }
   ],
   "source": [
    "df.head()"
   ]
  },
  {
   "cell_type": "code",
   "execution_count": 119,
   "metadata": {},
   "outputs": [
    {
     "data": {
      "image/png": "[encoded data removed]",
      "text/plain": [
       "<Figure size 640x480 with 1 Axes>"
      ]
     },
     "metadata": {},
     "output_type": "display_data"
    }
   ],
   "source": [
    "# calculate profits\n",
    "for column in stocks_list:\n",
    "    df[f'{column}_profit'] = df[column] * df[f'{column}_orders'].shift(1)\n",
    "\n",
    "# calculate cumulative profits\n",
    "for column in stocks_list:\n",
    "    df[f'{column}_cumprofit'] = df[f'{column}_profit'].cumsum()\n",
    "\n",
    "# calculate cumulative profits\n",
    "for column in stocks_list:\n",
    "    df[f'{column}_cumprofit'].plot()"
   ]
  },
  {
   "cell_type": "code",
   "execution_count": 120,
   "metadata": {},
   "outputs": [
    {
     "ename": "TypingError",
     "evalue": "Failed in nopython mode pipeline (step: nopython frontend)\nnon-precise type array(pyobject, 1d, C)\nDuring: typing of argument at /Users/johnboesen/Documents/Code/#Algotraders/yja/yja-env/lib/python3.9/site-packages/vectorbt/portfolio/nb.py (1369)\n\nFile \"yja-env/lib/python3.9/site-packages/vectorbt/portfolio/nb.py\", line 1369:\ndef simulate_from_orders_nb(target_shape: tp.Shape,\n    <source elided>\n    \"\"\"\n    check_group_lens_nb(group_lens, target_shape[1])\n    ^\n",
     "output_type": "error",
     "traceback": [
      "\u001b[0;31m---------------------------------------------------------------------------\u001b[0m",
      "\u001b[0;31mTypingError\u001b[0m                               Traceback (most recent call last)",
      "\u001b[1;32m/Users/johnboesen/Documents/Code/#Algotraders/yja/5 fundamental.ipynb Cell 12\u001b[0m in \u001b[0;36m4\n\u001b[1;32m      <a href='vscode-notebook-cell:/Users/johnboesen/Documents/Code/%23Algotraders/yja/5%20fundamental.ipynb#X23sZmlsZQ%3D%3D?line=1'>2</a>\u001b[0m orders_df \u001b[39m=\u001b[39m df[[\u001b[39mf\u001b[39m\u001b[39m'\u001b[39m\u001b[39m{\u001b[39;00mstock\u001b[39m}\u001b[39;00m\u001b[39m_orders\u001b[39m\u001b[39m'\u001b[39m \u001b[39mfor\u001b[39;00m stock \u001b[39min\u001b[39;00m stocks_list]]\n\u001b[1;32m      <a href='vscode-notebook-cell:/Users/johnboesen/Documents/Code/%23Algotraders/yja/5%20fundamental.ipynb#X23sZmlsZQ%3D%3D?line=2'>3</a>\u001b[0m \u001b[39m#\u001b[39;00m\n\u001b[0;32m----> <a href='vscode-notebook-cell:/Users/johnboesen/Documents/Code/%23Algotraders/yja/5%20fundamental.ipynb#X23sZmlsZQ%3D%3D?line=3'>4</a>\u001b[0m portfolio \u001b[39m=\u001b[39m vbt\u001b[39m.\u001b[39;49mPortfolio\u001b[39m.\u001b[39;49mfrom_orders(\n\u001b[1;32m      <a href='vscode-notebook-cell:/Users/johnboesen/Documents/Code/%23Algotraders/yja/5%20fundamental.ipynb#X23sZmlsZQ%3D%3D?line=4'>5</a>\u001b[0m     close_df[stocks_list[\u001b[39m0\u001b[39;49m]],\n\u001b[1;32m      <a href='vscode-notebook-cell:/Users/johnboesen/Documents/Code/%23Algotraders/yja/5%20fundamental.ipynb#X23sZmlsZQ%3D%3D?line=5'>6</a>\u001b[0m     orders_df[\u001b[39mf\u001b[39;49m\u001b[39m'\u001b[39;49m\u001b[39m{\u001b[39;49;00mstocks_list[\u001b[39m0\u001b[39;49m]\u001b[39m}\u001b[39;49;00m\u001b[39m_orders\u001b[39;49m\u001b[39m'\u001b[39;49m],\n\u001b[1;32m      <a href='vscode-notebook-cell:/Users/johnboesen/Documents/Code/%23Algotraders/yja/5%20fundamental.ipynb#X23sZmlsZQ%3D%3D?line=6'>7</a>\u001b[0m     cash_sharing\u001b[39m=\u001b[39;49m\u001b[39mTrue\u001b[39;49;00m,\n\u001b[1;32m      <a href='vscode-notebook-cell:/Users/johnboesen/Documents/Code/%23Algotraders/yja/5%20fundamental.ipynb#X23sZmlsZQ%3D%3D?line=7'>8</a>\u001b[0m )\n",
      "File \u001b[0;32m~/Documents/Code/#Algotraders/yja/yja-env/lib/python3.9/site-packages/vectorbt/portfolio/base.py:1995\u001b[0m, in \u001b[0;36mPortfolio.from_orders\u001b[0;34m(cls, close, size, size_type, direction, price, fees, fixed_fees, slippage, min_size, max_size, size_granularity, reject_prob, lock_cash, allow_partial, raise_reject, log, val_price, init_cash, cash_sharing, call_seq, ffill_val_price, update_value, max_orders, max_logs, seed, group_by, broadcast_kwargs, wrapper_kwargs, freq, attach_call_seq, **kwargs)\u001b[0m\n\u001b[1;32m   1992\u001b[0m     max_logs \u001b[39m=\u001b[39m \u001b[39m1\u001b[39m\n\u001b[1;32m   1994\u001b[0m \u001b[39m# Perform the simulation\u001b[39;00m\n\u001b[0;32m-> 1995\u001b[0m order_records, log_records \u001b[39m=\u001b[39m nb\u001b[39m.\u001b[39;49msimulate_from_orders_nb(\n\u001b[1;32m   1996\u001b[0m     target_shape_2d,\n\u001b[1;32m   1997\u001b[0m     cs_group_lens,  \u001b[39m# group only if cash sharing is enabled to speed up\u001b[39;49;00m\n\u001b[1;32m   1998\u001b[0m     init_cash,\n\u001b[1;32m   1999\u001b[0m     call_seq,\n\u001b[1;32m   2000\u001b[0m     \u001b[39m*\u001b[39;49m\u001b[39mmap\u001b[39;49m(np\u001b[39m.\u001b[39;49masarray, broadcasted_args),\n\u001b[1;32m   2001\u001b[0m     auto_call_seq,\n\u001b[1;32m   2002\u001b[0m     ffill_val_price,\n\u001b[1;32m   2003\u001b[0m     update_value,\n\u001b[1;32m   2004\u001b[0m     max_orders,\n\u001b[1;32m   2005\u001b[0m     max_logs,\n\u001b[1;32m   2006\u001b[0m     close\u001b[39m.\u001b[39;49mndim \u001b[39m==\u001b[39;49m \u001b[39m2\u001b[39;49m\n\u001b[1;32m   2007\u001b[0m )\n\u001b[1;32m   2009\u001b[0m \u001b[39m# Create an instance\u001b[39;00m\n\u001b[1;32m   2010\u001b[0m \u001b[39mreturn\u001b[39;00m \u001b[39mcls\u001b[39m(\n\u001b[1;32m   2011\u001b[0m     wrapper,\n\u001b[1;32m   2012\u001b[0m     close,\n\u001b[0;32m   (...)\u001b[0m\n\u001b[1;32m   2018\u001b[0m     \u001b[39m*\u001b[39m\u001b[39m*\u001b[39mkwargs\n\u001b[1;32m   2019\u001b[0m )\n",
      "File \u001b[0;32m~/Documents/Code/#Algotraders/yja/yja-env/lib/python3.9/site-packages/numba/core/dispatcher.py:468\u001b[0m, in \u001b[0;36m_DispatcherBase._compile_for_args\u001b[0;34m(self, *args, **kws)\u001b[0m\n\u001b[1;32m    464\u001b[0m         msg \u001b[39m=\u001b[39m (\u001b[39mf\u001b[39m\u001b[39m\"\u001b[39m\u001b[39m{\u001b[39;00m\u001b[39mstr\u001b[39m(e)\u001b[39m.\u001b[39mrstrip()\u001b[39m}\u001b[39;00m\u001b[39m \u001b[39m\u001b[39m\\n\u001b[39;00m\u001b[39m\\n\u001b[39;00m\u001b[39mThis error may have been caused \u001b[39m\u001b[39m\"\u001b[39m\n\u001b[1;32m    465\u001b[0m                \u001b[39mf\u001b[39m\u001b[39m\"\u001b[39m\u001b[39mby the following argument(s):\u001b[39m\u001b[39m\\n\u001b[39;00m\u001b[39m{\u001b[39;00margs_str\u001b[39m}\u001b[39;00m\u001b[39m\\n\u001b[39;00m\u001b[39m\"\u001b[39m)\n\u001b[1;32m    466\u001b[0m         e\u001b[39m.\u001b[39mpatch_message(msg)\n\u001b[0;32m--> 468\u001b[0m     error_rewrite(e, \u001b[39m'\u001b[39;49m\u001b[39mtyping\u001b[39;49m\u001b[39m'\u001b[39;49m)\n\u001b[1;32m    469\u001b[0m \u001b[39mexcept\u001b[39;00m errors\u001b[39m.\u001b[39mUnsupportedError \u001b[39mas\u001b[39;00m e:\n\u001b[1;32m    470\u001b[0m     \u001b[39m# Something unsupported is present in the user code, add help info\u001b[39;00m\n\u001b[1;32m    471\u001b[0m     error_rewrite(e, \u001b[39m'\u001b[39m\u001b[39munsupported_error\u001b[39m\u001b[39m'\u001b[39m)\n",
      "File \u001b[0;32m~/Documents/Code/#Algotraders/yja/yja-env/lib/python3.9/site-packages/numba/core/dispatcher.py:409\u001b[0m, in \u001b[0;36m_DispatcherBase._compile_for_args.<locals>.error_rewrite\u001b[0;34m(e, issue_type)\u001b[0m\n\u001b[1;32m    407\u001b[0m     \u001b[39mraise\u001b[39;00m e\n\u001b[1;32m    408\u001b[0m \u001b[39melse\u001b[39;00m:\n\u001b[0;32m--> 409\u001b[0m     \u001b[39mraise\u001b[39;00m e\u001b[39m.\u001b[39mwith_traceback(\u001b[39mNone\u001b[39;00m)\n",
      "\u001b[0;31mTypingError\u001b[0m: Failed in nopython mode pipeline (step: nopython frontend)\nnon-precise type array(pyobject, 1d, C)\nDuring: typing of argument at /Users/johnboesen/Documents/Code/#Algotraders/yja/yja-env/lib/python3.9/site-packages/vectorbt/portfolio/nb.py (1369)\n\nFile \"yja-env/lib/python3.9/site-packages/vectorbt/portfolio/nb.py\", line 1369:\ndef simulate_from_orders_nb(target_shape: tp.Shape,\n    <source elided>\n    \"\"\"\n    check_group_lens_nb(group_lens, target_shape[1])\n    ^\n"
     ]
    }
   ],
   "source": [
    "close_df = df[stocks_list]\n",
    "orders_df = df[[f'{stock}_orders' for stock in stocks_list]]\n",
    "portfolio = vbt.Portfolio.from_orders(\n",
    "    close_df[stocks_list[0]],\n",
    "    orders_df[f'{stocks_list[0]}_orders'],\n",
    "    cash_sharing=True,\n",
    ")"
   ]
  },
  {
   "cell_type": "code",
   "execution_count": 118,
   "metadata": {},
   "outputs": [
    {
     "name": "stderr",
     "output_type": "stream",
     "text": [
      "/Users/johnboesen/Documents/Code/#Algotraders/yja/yja-env/lib/python3.9/site-packages/vectorbt/generic/stats_builder.py:396: UserWarning:\n",
      "\n",
      "Metric 'sharpe_ratio' requires frequency to be set\n",
      "\n",
      "/Users/johnboesen/Documents/Code/#Algotraders/yja/yja-env/lib/python3.9/site-packages/vectorbt/generic/stats_builder.py:396: UserWarning:\n",
      "\n",
      "Metric 'calmar_ratio' requires frequency to be set\n",
      "\n",
      "/Users/johnboesen/Documents/Code/#Algotraders/yja/yja-env/lib/python3.9/site-packages/vectorbt/generic/stats_builder.py:396: UserWarning:\n",
      "\n",
      "Metric 'omega_ratio' requires frequency to be set\n",
      "\n",
      "/Users/johnboesen/Documents/Code/#Algotraders/yja/yja-env/lib/python3.9/site-packages/vectorbt/generic/stats_builder.py:396: UserWarning:\n",
      "\n",
      "Metric 'sortino_ratio' requires frequency to be set\n",
      "\n"
     ]
    },
    {
     "data": {
      "text/plain": [
       "Start                         2008-01-09 05:00:00+00:00\n",
       "End                           2023-03-10 05:00:00+00:00\n",
       "Period                                             3819\n",
       "Start Value                                       100.0\n",
       "End Value                                     386.55967\n",
       "Total Return [%]                              286.55967\n",
       "Benchmark Return [%]                         166.237722\n",
       "Max Gross Exposure [%]                            100.0\n",
       "Total Fees Paid                                     0.0\n",
       "Max Drawdown [%]                              51.448122\n",
       "Max Drawdown Duration                             694.0\n",
       "Total Trades                                          2\n",
       "Total Closed Trades                                   0\n",
       "Total Open Trades                                     2\n",
       "Open Trade PnL                                286.55967\n",
       "Win Rate [%]                                        NaN\n",
       "Best Trade [%]                                      NaN\n",
       "Worst Trade [%]                                     NaN\n",
       "Avg Winning Trade [%]                               NaN\n",
       "Avg Losing Trade [%]                                NaN\n",
       "Avg Winning Trade Duration                          NaN\n",
       "Avg Losing Trade Duration                           NaN\n",
       "Profit Factor                                       NaN\n",
       "Expectancy                                          NaN\n",
       "Name: group, dtype: object"
      ]
     },
     "execution_count": 118,
     "metadata": {},
     "output_type": "execute_result"
    }
   ],
   "source": [
    "portfolio.stats()"
   ]
  },
  {
   "cell_type": "code",
   "execution_count": null,
   "metadata": {},
   "outputs": [],
   "source": []
  }
 ],
 "metadata": {
  "kernelspec": {
   "display_name": "yja-env",
   "language": "python",
   "name": "python3"
  },
  "language_info": {
   "codemirror_mode": {
    "name": "ipython",
    "version": 3
   },
   "file_extension": ".py",
   "mimetype": "text/x-python",
   "name": "python",
   "nbconvert_exporter": "python",
   "pygments_lexer": "ipython3",
   "version": "3.9.16"
  },
  "orig_nbformat": 4
 },
 "nbformat": 4,
 "nbformat_minor": 2
}
