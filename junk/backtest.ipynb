{
 "cells": [
  {
   "cell_type": "code",
   "execution_count": 5,
   "metadata": {},
   "outputs": [],
   "source": [
    "import alpaca_trade_api as alpaca\n",
    "import backtrader as bt\n",
    "import pytz\n",
    "from datetime import datetime"
   ]
  },
  {
   "cell_type": "code",
   "execution_count": 6,
   "metadata": {},
   "outputs": [
    {
     "ename": "AttributeError",
     "evalue": "module 'alpaca_trade_api' has no attribute 'AlpacaStore'",
     "output_type": "error",
     "traceback": [
      "\u001b[0;31m---------------------------------------------------------------------------\u001b[0m",
      "\u001b[0;31mAttributeError\u001b[0m                            Traceback (most recent call last)",
      "Cell \u001b[0;32mIn [6], line 32\u001b[0m\n\u001b[1;32m     29\u001b[0m cerebro\u001b[39m.\u001b[39mbroker\u001b[39m.\u001b[39msetcash(\u001b[39m100000\u001b[39m)\n\u001b[1;32m     30\u001b[0m cerebro\u001b[39m.\u001b[39mbroker\u001b[39m.\u001b[39msetcommission(commission\u001b[39m=\u001b[39m\u001b[39m0.0\u001b[39m)\n\u001b[0;32m---> 32\u001b[0m store \u001b[39m=\u001b[39m alpaca\u001b[39m.\u001b[39;49mAlpacaStore(\n\u001b[1;32m     33\u001b[0m     key_id\u001b[39m=\u001b[39mALPACA_KEY_ID,\n\u001b[1;32m     34\u001b[0m     secret_key\u001b[39m=\u001b[39mALPACA_SECRET_KEY,\n\u001b[1;32m     35\u001b[0m     paper\u001b[39m=\u001b[39mALPACA_PAPER\n\u001b[1;32m     36\u001b[0m )\n\u001b[1;32m     38\u001b[0m \u001b[39mif\u001b[39;00m \u001b[39mnot\u001b[39;00m ALPACA_PAPER:\n\u001b[1;32m     39\u001b[0m     \u001b[39mprint\u001b[39m(\u001b[39mf\u001b[39m\u001b[39m\"\u001b[39m\u001b[39mLIVE TRADING\u001b[39m\u001b[39m\"\u001b[39m)\n",
      "\u001b[0;31mAttributeError\u001b[0m: module 'alpaca_trade_api' has no attribute 'AlpacaStore'"
     ]
    }
   ],
   "source": [
    "ALPACA_KEY_ID = 'PKFTNP8WTF3YNWNIPH6R'\n",
    "ALPACA_SECRET_KEY = 'Y7MURXQa2qzFanfwHuhmty2hLxfNsEj2kSjfzqkO'\n",
    "ALPACA_PAPER = True\n",
    "\n",
    "fromdate = datetime(2020,8,5)\n",
    "todate = datetime(2020,8,10)\n",
    "\n",
    "tickers = ['SPY']\n",
    "timeframes = {\n",
    "    '15Min':15,\n",
    "    '30Min':30,\n",
    "    '1H':60,\n",
    "}\n",
    "\n",
    "class RSIStack(bt.Strategy):\n",
    "\n",
    "    def next(self):\n",
    "        for i in range(0,len(self.datas)):\n",
    "            print(f'{self.datas[i].datetime.datetime(ago=0)} \\\n",
    "            {self.datas[i].p.dataname}: OHLC: \\\n",
    "                  o:{self.datas[i].open[0]} \\\n",
    "                  h:{self.datas[i].high[0]} \\\n",
    "                  l:{self.datas[i].low[0]} \\\n",
    "                  c:{self.datas[i].close[0]} \\\n",
    "                  v:{self.datas[i].volume[0]}' )\n",
    "\n",
    "cerebro = bt.Cerebro()\n",
    "cerebro.addstrategy(RSIStack)\n",
    "cerebro.broker.setcash(100000)\n",
    "cerebro.broker.setcommission(commission=0.0)\n",
    "\n",
    "store = alpaca.AlpacaStore(\n",
    "    key_id=ALPACA_KEY_ID,\n",
    "    secret_key=ALPACA_SECRET_KEY,\n",
    "    paper=ALPACA_PAPER\n",
    ")\n",
    "\n",
    "if not ALPACA_PAPER:\n",
    "    print(f\"LIVE TRADING\")\n",
    "    broker = store.getbroker()\n",
    "    cerebro.setbroker(broker)\n",
    "\n",
    "DataFactory = store.getdata\n",
    "\n",
    "for ticker in tickers:\n",
    "    for timeframe, minutes in timeframes.items():\n",
    "        print(f'Adding ticker {ticker} using {timeframe} timeframe at {minutes} minutes.')\n",
    "\n",
    "        d = DataFactory(\n",
    "            dataname=ticker,\n",
    "            timeframe=bt.TimeFrame.Minutes,\n",
    "            compression=minutes,\n",
    "            fromdate=fromdate,\n",
    "            todate=todate,\n",
    "            historical=True)\n",
    "\n",
    "        cerebro.adddata(d)\n",
    "\n",
    "cerebro.run()\n",
    "print(\"Final Portfolio Value: %.2f\" % cerebro.broker.getvalue())\n",
    "cerebro.plot(style='candlestick', barup='green', bardown='red')"
   ]
  },
  {
   "cell_type": "code",
   "execution_count": null,
   "metadata": {},
   "outputs": [],
   "source": []
  }
 ],
 "metadata": {
  "kernelspec": {
   "display_name": "Python 3.9.13 ('yja-env': venv)",
   "language": "python",
   "name": "python3"
  },
  "language_info": {
   "codemirror_mode": {
    "name": "ipython",
    "version": 3
   },
   "file_extension": ".py",
   "mimetype": "text/x-python",
   "name": "python",
   "nbconvert_exporter": "python",
   "pygments_lexer": "ipython3",
   "version": "3.9.13"
  },
  "orig_nbformat": 4,
  "vscode": {
   "interpreter": {
    "hash": "253c9817117391826c7cad0e6b7411e587efd9efd2a0b9031331b0dffd79c9b4"
   }
  }
 },
 "nbformat": 4,
 "nbformat_minor": 2
}
