{
 "cells": [
  {
   "cell_type": "code",
   "execution_count": null,
   "metadata": {},
   "outputs": [],
   "source": [
    "import json\n",
    "import requests.api\n",
    "import websocket\n",
    "import pandas as pd\n",
    "import plotly.graph_objs as go \n"
   ]
  },
  {
   "cell_type": "code",
   "execution_count": null,
   "metadata": {},
   "outputs": [],
   "source": [
    "# initialize\n",
    "is_open = True\n",
    "BASE_URL = f'https://paper-api.alpaca.markets/v2' # This is the base URL for paper trading\n",
    "ACCOUNT_URL = f'{BASE_URL}/account'\n",
    "DATA_URL = 'https://data.alpaca.markets/v2'\n",
    "KEY = 'PKFTNP8WTF3YNWNIPH6R'\n",
    "SECRET = 'Y7MURXQa2qzFanfwHuhmty2hLxfNsEj2kSjfzqkO'\n",
    "keys = {'APCA-API-KEY-ID' : 'PKFTNP8WTF3YNWNIPH6R', 'APCA-API-SECRET-KEY' : 'Y7MURXQa2qzFanfwHuhmty2hLxfNsEj2kSjfzqkO'}\n",
    "# connect and authenticate to regular\n",
    "account = json.loads(requests.get(ACCOUNT_URL, headers=keys).content)\n",
    "print(account)\n",
    "if not account['status'] == 'ACTIVE':\n",
    "    exit(1)\n",
    "# 1 = longing, 2 = shorting, 3 = hard shorting\n",
    "prev_order = ''\n",
    "# Prevent trying to trade before the previous trade is done\n",
    "# trading = False\n",
    "fig=go.Figure()"
   ]
  }
 ],
 "metadata": {
  "kernelspec": {
   "display_name": "Python 3.9.13 64-bit",
   "language": "python",
   "name": "python3"
  },
  "language_info": {
   "name": "python",
   "version": "3.9.13"
  },
  "orig_nbformat": 4,
  "vscode": {
   "interpreter": {
    "hash": "65f51c71e5cc287e1507c0af508bdb91cf93faaf395223bc4fe36d2ad239bc10"
   }
  }
 },
 "nbformat": 4,
 "nbformat_minor": 2
}
